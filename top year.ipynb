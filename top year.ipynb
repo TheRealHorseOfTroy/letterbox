{
 "cells": [
  {
   "cell_type": "code",
   "execution_count": 42,
   "id": "61e58c06",
   "metadata": {},
   "outputs": [],
   "source": [
    "import pandas as pd\n",
    "import os\n",
    "\n",
    "#whose folder do we go into\n",
    "name = 'tory'\n",
    "\n",
    "cwd = os.getcwd()\n",
    "if cwd != 'C:\\\\Users\\\\tory\\\\Desktop\\\\personal':\n",
    "    os.chdir('..')\n",
    "os.chdir('C:\\\\Users\\\\tory\\\\Desktop\\\\personal')\n",
    "os.chdir(name)\n",
    "cwd = os.getcwd()\n",
    "cwd\n"
   ]
  },
  {
   "cell_type": "code",
   "execution_count": 43,
   "id": "ce11be50",
   "metadata": {},
   "outputs": [
    {
     "data": {
      "text/html": [
       "<div>\n",
       "<style scoped>\n",
       "    .dataframe tbody tr th:only-of-type {\n",
       "        vertical-align: middle;\n",
       "    }\n",
       "\n",
       "    .dataframe tbody tr th {\n",
       "        vertical-align: top;\n",
       "    }\n",
       "\n",
       "    .dataframe thead th {\n",
       "        text-align: right;\n",
       "    }\n",
       "</style>\n",
       "<table border=\"1\" class=\"dataframe\">\n",
       "  <thead>\n",
       "    <tr style=\"text-align: right;\">\n",
       "      <th></th>\n",
       "      <th>Date</th>\n",
       "      <th>Name</th>\n",
       "      <th>Year</th>\n",
       "      <th>Letterboxd URI</th>\n",
       "      <th>Rating</th>\n",
       "    </tr>\n",
       "  </thead>\n",
       "  <tbody>\n",
       "    <tr>\n",
       "      <th>0</th>\n",
       "      <td>2022-09-30</td>\n",
       "      <td>Megamind</td>\n",
       "      <td>2010</td>\n",
       "      <td>https://boxd.it/16Sk</td>\n",
       "      <td>4.0</td>\n",
       "    </tr>\n",
       "    <tr>\n",
       "      <th>1</th>\n",
       "      <td>2022-09-30</td>\n",
       "      <td>(500) Days of Summer</td>\n",
       "      <td>2009</td>\n",
       "      <td>https://boxd.it/1EmM</td>\n",
       "      <td>2.0</td>\n",
       "    </tr>\n",
       "    <tr>\n",
       "      <th>2</th>\n",
       "      <td>2022-09-30</td>\n",
       "      <td>The Proposal</td>\n",
       "      <td>2009</td>\n",
       "      <td>https://boxd.it/1HiS</td>\n",
       "      <td>4.0</td>\n",
       "    </tr>\n",
       "    <tr>\n",
       "      <th>3</th>\n",
       "      <td>2022-09-30</td>\n",
       "      <td>Up</td>\n",
       "      <td>2009</td>\n",
       "      <td>https://boxd.it/1OEc</td>\n",
       "      <td>2.5</td>\n",
       "    </tr>\n",
       "    <tr>\n",
       "      <th>4</th>\n",
       "      <td>2022-09-30</td>\n",
       "      <td>Wild Child</td>\n",
       "      <td>2008</td>\n",
       "      <td>https://boxd.it/1P0C</td>\n",
       "      <td>4.0</td>\n",
       "    </tr>\n",
       "    <tr>\n",
       "      <th>...</th>\n",
       "      <td>...</td>\n",
       "      <td>...</td>\n",
       "      <td>...</td>\n",
       "      <td>...</td>\n",
       "      <td>...</td>\n",
       "    </tr>\n",
       "    <tr>\n",
       "      <th>1203</th>\n",
       "      <td>2023-05-24</td>\n",
       "      <td>High School Musical</td>\n",
       "      <td>2006</td>\n",
       "      <td>https://boxd.it/1V0y</td>\n",
       "      <td>3.0</td>\n",
       "    </tr>\n",
       "    <tr>\n",
       "      <th>1204</th>\n",
       "      <td>2023-05-24</td>\n",
       "      <td>Clueless</td>\n",
       "      <td>1995</td>\n",
       "      <td>https://boxd.it/1Ygk</td>\n",
       "      <td>3.5</td>\n",
       "    </tr>\n",
       "    <tr>\n",
       "      <th>1205</th>\n",
       "      <td>2023-05-24</td>\n",
       "      <td>American Psycho</td>\n",
       "      <td>2000</td>\n",
       "      <td>https://boxd.it/28Vs</td>\n",
       "      <td>2.5</td>\n",
       "    </tr>\n",
       "    <tr>\n",
       "      <th>1206</th>\n",
       "      <td>2023-05-24</td>\n",
       "      <td>Yes Man</td>\n",
       "      <td>2008</td>\n",
       "      <td>https://boxd.it/1WPW</td>\n",
       "      <td>2.5</td>\n",
       "    </tr>\n",
       "    <tr>\n",
       "      <th>1207</th>\n",
       "      <td>2023-05-25</td>\n",
       "      <td>Saved!</td>\n",
       "      <td>2004</td>\n",
       "      <td>https://boxd.it/1QCM</td>\n",
       "      <td>3.0</td>\n",
       "    </tr>\n",
       "  </tbody>\n",
       "</table>\n",
       "<p>1208 rows × 5 columns</p>\n",
       "</div>"
      ],
      "text/plain": [
       "            Date                  Name  Year        Letterboxd URI  Rating\n",
       "0     2022-09-30              Megamind  2010  https://boxd.it/16Sk     4.0\n",
       "1     2022-09-30  (500) Days of Summer  2009  https://boxd.it/1EmM     2.0\n",
       "2     2022-09-30          The Proposal  2009  https://boxd.it/1HiS     4.0\n",
       "3     2022-09-30                    Up  2009  https://boxd.it/1OEc     2.5\n",
       "4     2022-09-30            Wild Child  2008  https://boxd.it/1P0C     4.0\n",
       "...          ...                   ...   ...                   ...     ...\n",
       "1203  2023-05-24   High School Musical  2006  https://boxd.it/1V0y     3.0\n",
       "1204  2023-05-24              Clueless  1995  https://boxd.it/1Ygk     3.5\n",
       "1205  2023-05-24       American Psycho  2000  https://boxd.it/28Vs     2.5\n",
       "1206  2023-05-24               Yes Man  2008  https://boxd.it/1WPW     2.5\n",
       "1207  2023-05-25                Saved!  2004  https://boxd.it/1QCM     3.0\n",
       "\n",
       "[1208 rows x 5 columns]"
      ]
     },
     "execution_count": 43,
     "metadata": {},
     "output_type": "execute_result"
    }
   ],
   "source": [
    "watched_df = pd.read_csv (\"watched.csv\")\n",
    "watched_df = watched_df.rename(columns={'release year': 'release'})\n",
    "rated_df = pd.read_csv (\"ratings.csv\")\n",
    "rated_df = rated_df.rename(columns={'release year': 'release'})\n",
    "rated_df"
   ]
  },
  {
   "cell_type": "code",
   "execution_count": 44,
   "id": "59af3e2f",
   "metadata": {},
   "outputs": [
    {
     "data": {
      "text/plain": [
       "0       2010\n",
       "1       2009\n",
       "2       2009\n",
       "3       2009\n",
       "4       2008\n",
       "        ... \n",
       "1203    2006\n",
       "1204    1995\n",
       "1205    2000\n",
       "1206    2008\n",
       "1207    2004\n",
       "Name: Year, Length: 1208, dtype: int64"
      ]
     },
     "execution_count": 44,
     "metadata": {},
     "output_type": "execute_result"
    }
   ],
   "source": [
    "w_years = watched_df.loc[:,'Year']\n",
    "r_years = rated_df.loc[:,'Year']\n",
    "r_years"
   ]
  },
  {
   "cell_type": "code",
   "execution_count": 45,
   "id": "ca51174a",
   "metadata": {},
   "outputs": [
    {
     "name": "stdout",
     "output_type": "stream",
     "text": [
      "71\n"
     ]
    }
   ],
   "source": [
    "from collections import Counter\n",
    "import matplotlib.pyplot as plt\n",
    "\n",
    "w_counts = Counter(w_years)\n",
    "print(len(w_counts))\n",
    "r_counts = Counter(r_years)"
   ]
  },
  {
   "cell_type": "code",
   "execution_count": 46,
   "id": "cae38c86",
   "metadata": {},
   "outputs": [],
   "source": [
    "highestY =0\n",
    "highestV =0\n",
    "for key, value in w_counts.items():\n",
    "    if value > highestV:\n",
    "        highestY = key\n",
    "        highestV = value"
   ]
  },
  {
   "cell_type": "code",
   "execution_count": 47,
   "id": "eb20b456",
   "metadata": {},
   "outputs": [
    {
     "data": {
      "text/plain": [
       "39"
      ]
     },
     "execution_count": 47,
     "metadata": {},
     "output_type": "execute_result"
    }
   ],
   "source": [
    "oldies =0\n",
    "for key, value in w_counts.items():\n",
    "    if key < 1980:\n",
    "        oldies += value\n",
    "oldies"
   ]
  },
  {
   "cell_type": "code",
   "execution_count": 48,
   "id": "eb44e2d2",
   "metadata": {},
   "outputs": [],
   "source": [
    "ratings = rated_df.loc[:,'Rating']\n"
   ]
  },
  {
   "cell_type": "code",
   "execution_count": 49,
   "id": "9a0842ae",
   "metadata": {},
   "outputs": [],
   "source": [
    "year_maths ={}\n",
    "#for loop through years making a new line with that year and value 0\n",
    "null_vals = [0] * len(rated_df)\n",
    "year_maths = dict(zip(w_years, null_vals))\n"
   ]
  },
  {
   "cell_type": "code",
   "execution_count": 50,
   "id": "8b817b62",
   "metadata": {},
   "outputs": [
    {
     "name": "stdout",
     "output_type": "stream",
     "text": [
      "your most watched year:  2011  with  69  movies\n"
     ]
    },
    {
     "data": {
      "image/png": "[encoded data removed]",
      "text/plain": [
       "<Figure size 640x480 with 1 Axes>"
      ]
     },
     "metadata": {},
     "output_type": "display_data"
    }
   ],
   "source": [
    "plt.bar(w_counts.keys(), w_counts.values())\n",
    "plt.bar(r_counts.keys(), r_counts.values())\n",
    "plt.title(\"Number of Watched and Rated Movies Per Year\")\n",
    "print(\"your most watched year: \",highestY, \" with \",highestV,\" movies\")\n"
   ]
  },
  {
   "cell_type": "code",
   "execution_count": 51,
   "id": "cfed5891",
   "metadata": {},
   "outputs": [
    {
     "name": "stdout",
     "output_type": "stream",
     "text": [
      "you have not rated all of the films you've watched, so your data is not fully accurate, \n",
      "check below if you'd like to remove short films\n"
     ]
    }
   ],
   "source": [
    "unbalanced = False\n",
    "if len(r_years) != len(w_years):\n",
    "    unbalanced = True\n",
    "    print(\"you have not rated all of the films you've watched, so your data is not fully accurate, \\ncheck below if you'd like to remove short films\")"
   ]
  },
  {
   "cell_type": "code",
   "execution_count": 52,
   "id": "7d2726ab",
   "metadata": {},
   "outputs": [],
   "source": [
    "#toggle this if you'd like to ignore films below one hour or look at them seperately\n",
    "#TODO\n",
    "indShorts = False\n",
    "indLook = False"
   ]
  },
  {
   "cell_type": "code",
   "execution_count": 53,
   "id": "6c3288f1",
   "metadata": {},
   "outputs": [
    {
     "name": "stdout",
     "output_type": "stream",
     "text": [
      "aye yo\n",
      "aye yo\n"
     ]
    }
   ],
   "source": [
    "total_avg = 0\n",
    "for i in range(len(rated_df)):\n",
    "    if year_maths.get(r_years.get(i)) is None:\n",
    "        print(\"aye yo\")\n",
    "    else:\n",
    "        sum = year_maths.get(r_years.get(i)) + ratings.get(i)\n",
    "        year_maths.update({r_years.get(i): sum})\n",
    "        total_avg += rated_df.loc[i, 'Rating']"
   ]
  },
  {
   "cell_type": "code",
   "execution_count": null,
   "id": "cd12b109",
   "metadata": {},
   "outputs": [],
   "source": []
  },
  {
   "cell_type": "code",
   "execution_count": 54,
   "id": "c2dbc181",
   "metadata": {},
   "outputs": [],
   "source": [
    "allyear_maths ={}\n",
    "highest_avg  =0\n",
    "highest_year = 0\n",
    "for key, value in year_maths.items():\n",
    "    if r_counts.get(key) is not None:\n",
    "        count = r_counts.get(key)\n",
    "        avg = value/count\n",
    "        if highest_avg< avg:\n",
    "            highest_avg = avg\n",
    "            highest_year = key\n",
    "        allyear_maths.update({key: avg})"
   ]
  },
  {
   "cell_type": "code",
   "execution_count": 55,
   "id": "87796c97",
   "metadata": {},
   "outputs": [],
   "source": [
    "high5  =0\n",
    "high5avg = 0\n",
    "year5maths ={}\n",
    "low5= 2050\n",
    "low5avg = 10\n",
    "\n",
    "for key, value in year_maths.items():\n",
    "    if r_counts.get(key) is not None:\n",
    "        count = r_counts.get(key)\n",
    "        if count >=5:\n",
    "            avg = value/count\n",
    "            if high5avg< avg:\n",
    "                high5avg = avg\n",
    "                high5 = key\n",
    "            if low5avg> avg:\n",
    "                low5avg = avg\n",
    "                low5 = key\n",
    "            year5maths.update({key: avg})"
   ]
  },
  {
   "cell_type": "code",
   "execution_count": 56,
   "id": "c9c6a578",
   "metadata": {},
   "outputs": [],
   "source": [
    "year6maths ={}\n",
    "#for loop through years making a new line with that year and value 0\n",
    "null_vals = [0] * len(rated_df)\n",
    "year6maths = dict(zip(w_years, null_vals))"
   ]
  },
  {
   "cell_type": "code",
   "execution_count": 57,
   "id": "e22810a8",
   "metadata": {},
   "outputs": [],
   "source": [
    "for i in range(len(rated_df)):\n",
    "    if ratings.get(i) >= 3:\n",
    "        if r_counts.get(i) is not None:\n",
    "            sum = year_maths.get(r_years.get(i)) + ratings.get(i)\n",
    "            year6maths.update({r_years.get(i): sum})"
   ]
  },
  {
   "cell_type": "code",
   "execution_count": 58,
   "id": "5e75e415",
   "metadata": {},
   "outputs": [],
   "source": [
    "high  =0\n",
    "high6avg = 0\n",
    "year6mathsavg ={}\n",
    "\n",
    "for key, value in year6maths.items():\n",
    "    if r_counts.get(key) is not None:\n",
    "        count = r_counts.get(key)\n",
    "        if count >=5:\n",
    "            avg = value/count\n",
    "            if high6avg< avg:\n",
    "                high6avg = avg\n",
    "                high6 = key\n",
    "            year6mathsavg.update({key: avg})"
   ]
  },
  {
   "cell_type": "code",
   "execution_count": 59,
   "id": "d8ced719",
   "metadata": {},
   "outputs": [],
   "source": [
    "ynr = list(zip(r_years, ratings))\n",
    "counts4= dict(zip(r_years, null_vals))\n",
    "for i, j in ynr:\n",
    "    if j >=4:\n",
    "        newc = counts4.get(i) +1\n",
    "        counts4.update({i: newc})"
   ]
  },
  {
   "cell_type": "code",
   "execution_count": 60,
   "id": "717fb022",
   "metadata": {},
   "outputs": [],
   "source": [
    "vol4 = 0\n",
    "year4 = 0\n",
    "\n",
    "for key, value in counts4.items():\n",
    "    if value > vol4:\n",
    "        vol4 = value\n",
    "        year4 = key"
   ]
  },
  {
   "cell_type": "code",
   "execution_count": 61,
   "id": "7a002a5c",
   "metadata": {},
   "outputs": [],
   "source": [
    "ynr = list(zip(r_years, ratings))\n",
    "counts1_5= dict(zip(r_years, null_vals))\n",
    "for i, j in ynr:\n",
    "    if j <=1.5:\n",
    "        newc = counts1_5.get(i) +1\n",
    "        counts1_5.update({i: newc})"
   ]
  },
  {
   "cell_type": "code",
   "execution_count": 62,
   "id": "27bbd2e8",
   "metadata": {},
   "outputs": [],
   "source": [
    "year2_5 = 0\n",
    "vol2_5 = 0\n",
    "\n",
    "for key, value in counts1_5.items():\n",
    "    if value > vol2_5:\n",
    "        year2_5 = key\n",
    "        vol2_5 = value"
   ]
  },
  {
   "cell_type": "code",
   "execution_count": 63,
   "id": "f38c16ea",
   "metadata": {},
   "outputs": [
    {
     "name": "stdout",
     "output_type": "stream",
     "text": [
      "your total average movie rating: 2.62\n",
      "year with the highest average ratings:  1979  with an avg of:  4.25\n",
      "however you only saw:  2 movies that year,,, soooo taking that into account\n",
      "\n",
      "\n",
      "let's only look at years that you've seen more than 5 movies from\n",
      "\n",
      "\n",
      "your highest rated year is: 1996 with an avg of:3.19  with  16 movies that year\n",
      "that feels weird, so just in general, the year you've rated the most films at 4★ or higher:  2019  with  18  movies\n",
      "\n",
      "\n",
      "how about worst movies! your lowest rated year is:  1987 at: 1.94  with  9 movies that year\n",
      "that also feels weird! but the year you've rated the most films at 1.5★ or lower:  2016  with  17  unfortunate movies\n"
     ]
    }
   ],
   "source": [
    "print(\"your total average movie rating: {:0.2f}\".format(total_avg/len(rated_df)))\n",
    "print(\"year with the highest average ratings: \", highest_year, \" with an avg of: \", highest_avg)\n",
    "print(\"however you only saw: \", r_counts.get(highest_year), \"movies that year,,, soooo taking that into account\")\n",
    "print(\"\\n\")\n",
    "print(\"let's only look at years that you've seen more than 5 movies from\")\n",
    "print(\"\\n\")\n",
    "print(\"your highest rated year is:\", high5, \"with an avg of:{:0.2f}\".format(high5avg), \" with \",r_counts.get(high5), \"movies that year\")\n",
    "print(\"that feels weird, so just in general, the year you've rated the most films at 4★ or higher: \", year4, \" with \", vol4, \" movies\")\n",
    "print(\"\\n\")\n",
    "print(\"how about worst movies! your lowest rated year is: \", low5, \"at: {:0.2f}\".format(low5avg), \" with \",r_counts.get(low5), \"movies that year\")\n",
    "print(\"that also feels weird! but the year you've rated the most films at 1.5★ or lower: \", year2_5, \" with \", vol2_5, \" unfortunate movies\")\n"
   ]
  },
  {
   "cell_type": "code",
   "execution_count": 64,
   "id": "eadca870",
   "metadata": {},
   "outputs": [
    {
     "data": {
      "text/plain": [
       "Text(0.5, 1.0, 'Average rating per year')"
      ]
     },
     "execution_count": 64,
     "metadata": {},
     "output_type": "execute_result"
    },
    {
     "data": {
      "image/png": "[encoded data removed]",
      "text/plain": [
       "<Figure size 640x480 with 1 Axes>"
      ]
     },
     "metadata": {},
     "output_type": "display_data"
    }
   ],
   "source": [
    "plt.bar(allyear_maths.keys(), allyear_maths.values())\n",
    "plt.title(\"Average rating per year\")"
   ]
  },
  {
   "cell_type": "code",
   "execution_count": 65,
   "id": "572993ac",
   "metadata": {},
   "outputs": [
    {
     "data": {
      "text/plain": [
       "Text(0.5, 1.0, 'Average Rating For Each Year With More Than 5 Ratings')"
      ]
     },
     "execution_count": 65,
     "metadata": {},
     "output_type": "execute_result"
    },
    {
     "data": {
      "image/png": "[encoded data removed]",
      "text/plain": [
       "<Figure size 640x480 with 1 Axes>"
      ]
     },
     "metadata": {},
     "output_type": "display_data"
    }
   ],
   "source": [
    "plt.bar(year5maths.keys(), year5maths.values())\n",
    "plt.title(\"Average Rating For Each Year With More Than 5 Ratings\")"
   ]
  },
  {
   "cell_type": "code",
   "execution_count": null,
   "id": "4913ea68",
   "metadata": {},
   "outputs": [],
   "source": []
  }
 ],
 "metadata": {
  "kernelspec": {
   "display_name": "myvenv",
   "language": "python",
   "name": "myvenv"
  },
  "language_info": {
   "codemirror_mode": {
    "name": "ipython",
    "version": 3
   },
   "file_extension": ".py",
   "mimetype": "text/x-python",
   "name": "python",
   "nbconvert_exporter": "python",
   "pygments_lexer": "ipython3",
   "version": "3.11.1"
  }
 },
 "nbformat": 4,
 "nbformat_minor": 5
}
